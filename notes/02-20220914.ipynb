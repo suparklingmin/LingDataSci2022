{
  "nbformat": 4,
  "nbformat_minor": 0,
  "metadata": {
    "colab": {
      "provenance": [],
      "collapsed_sections": [],
      "toc_visible": true
    },
    "kernelspec": {
      "name": "python3",
      "display_name": "Python 3"
    },
    "language_info": {
      "name": "python"
    }
  },
  "cells": [
    {
      "cell_type": "markdown",
      "source": [
        "## 오늘의 목표\n",
        "\n",
        "로마 시대 요리책에서 레시피 카드를 뽑아낸다.\n"
      ],
      "metadata": {
        "id": "qiLmG_VAbkQb"
      }
    },
    {
      "cell_type": "markdown",
      "source": [
        "## 오늘의 자료\n",
        "\n",
        "Apicius, *De re coquinaria* (https://www.gutenberg.org/ebooks/29728)\n",
        "\n",
        "구텐베르크 프로젝트에서 본문 텍스트 파일을 내려받을 수 있다."
      ],
      "metadata": {
        "id": "iBl6vl5H4ei1"
      }
    },
    {
      "cell_type": "code",
      "execution_count": 1,
      "metadata": {
        "colab": {
          "base_uri": "https://localhost:8080/"
        },
        "id": "vixN4PvDEpCf",
        "outputId": "2d9799d5-5474-4b28-a603-2da666cb07f1"
      },
      "outputs": [
        {
          "output_type": "stream",
          "name": "stdout",
          "text": [
            "--2022-09-20 08:05:06--  https://www.gutenberg.org/files/29728/29728-0.txt\n",
            "Resolving www.gutenberg.org (www.gutenberg.org)... 152.19.134.47, 2610:28:3090:3000:0:bad:cafe:47\n",
            "Connecting to www.gutenberg.org (www.gutenberg.org)|152.19.134.47|:443... connected.\n",
            "HTTP request sent, awaiting response... 200 OK\n",
            "Length: 718740 (702K) [text/plain]\n",
            "Saving to: ‘apicius.txt’\n",
            "\n",
            "apicius.txt         100%[===================>] 701.89K  1.36MB/s    in 0.5s    \n",
            "\n",
            "2022-09-20 08:05:07 (1.36 MB/s) - ‘apicius.txt’ saved [718740/718740]\n",
            "\n"
          ]
        }
      ],
      "source": [
        "!wget https://www.gutenberg.org/files/29728/29728-0.txt -O apicius.txt"
      ]
    },
    {
      "cell_type": "markdown",
      "source": [
        "# 리눅스 기초 명령어"
      ],
      "metadata": {
        "id": "R5dOneitPk8x"
      }
    },
    {
      "cell_type": "markdown",
      "source": [
        "## `wc` (word count)\n",
        "\n",
        "행의 개수, 단어의 개수, 글자의 개수, 파일명"
      ],
      "metadata": {
        "id": "rmjsbTsTIK_Q"
      }
    },
    {
      "cell_type": "code",
      "source": [
        "!wc apicius.txt"
      ],
      "metadata": {
        "colab": {
          "base_uri": "https://localhost:8080/"
        },
        "id": "fwszKCNKFLxT",
        "outputId": "7fe3675c-1cae-4e46-da13-9b819c6ccf97"
      },
      "execution_count": 2,
      "outputs": [
        {
          "output_type": "stream",
          "name": "stdout",
          "text": [
            " 19377 110361 718740 apicius.txt\n"
          ]
        }
      ]
    },
    {
      "cell_type": "markdown",
      "source": [
        "ASCII 문자의 경우 글자 개수는 파일의 크기(바이트)와 같다. 여기는 718740이다."
      ],
      "metadata": {
        "id": "Vk9WTy7XP1P9"
      }
    },
    {
      "cell_type": "code",
      "source": [
        "!ls -l apicius.txt"
      ],
      "metadata": {
        "colab": {
          "base_uri": "https://localhost:8080/"
        },
        "id": "tz9vNOZEPqkm",
        "outputId": "9af0cab6-f57e-49b6-f21b-e8d93dadfe45"
      },
      "execution_count": 3,
      "outputs": [
        {
          "output_type": "stream",
          "name": "stdout",
          "text": [
            "-rw-r--r-- 1 root root 718740 Aug 19  2009 apicius.txt\n"
          ]
        }
      ]
    },
    {
      "cell_type": "markdown",
      "source": [
        "## `head`\n",
        "\n",
        "기본적으로 파일 내용의 첫 10행을 보여준다."
      ],
      "metadata": {
        "id": "CkIUaZ0zIn7K"
      }
    },
    {
      "cell_type": "code",
      "source": [
        "!head apicius.txt"
      ],
      "metadata": {
        "colab": {
          "base_uri": "https://localhost:8080/"
        },
        "id": "zsT9Lqy8EyoE",
        "outputId": "e641a186-c345-4aaf-8aba-9c8d6e1539fa"
      },
      "execution_count": 4,
      "outputs": [
        {
          "output_type": "stream",
          "name": "stdout",
          "text": [
            "﻿Project Gutenberg's Cooking and Dining in Imperial Rome, by Apicius\r\n",
            "\r\n",
            "This eBook is for the use of anyone anywhere at no cost and with\r\n",
            "almost no restrictions whatsoever.  You may copy it, give it away or\r\n",
            "re-use it under the terms of the Project Gutenberg License included\r\n",
            "with this eBook or online at www.gutenberg.org\r\n",
            "\r\n",
            "\r\n",
            "Title: Cooking and Dining in Imperial Rome\r\n",
            "\r\n"
          ]
        }
      ]
    },
    {
      "cell_type": "markdown",
      "source": [
        "## `tail`\n",
        "\n",
        "기본적으로 파일의 마지막 10행을 보여준다."
      ],
      "metadata": {
        "id": "zvn6OIFKIzKA"
      }
    },
    {
      "cell_type": "code",
      "source": [
        "!tail apicius.txt"
      ],
      "metadata": {
        "id": "_bPsIqZbE5Ar",
        "colab": {
          "base_uri": "https://localhost:8080/"
        },
        "outputId": "dade911a-7efb-47f9-fd61-3e38ab3ec50e"
      },
      "execution_count": 5,
      "outputs": [
        {
          "output_type": "stream",
          "name": "stdout",
          "text": [
            "\r\n",
            "\r\n",
            "Most people start at our Web site which has the main PG search facility:\r\n",
            "\r\n",
            "     http://www.gutenberg.org\r\n",
            "\r\n",
            "This Web site includes information about Project Gutenberg-tm,\r\n",
            "including how to make donations to the Project Gutenberg Literary\r\n",
            "Archive Foundation, how to help produce our new eBooks, and how to\r\n",
            "subscribe to our email newsletter to hear about new eBooks.\r\n"
          ]
        }
      ]
    },
    {
      "cell_type": "markdown",
      "source": [
        "## `cat`\n",
        "\n",
        "파일 내용 전체를 보여준다. (분량이 많을 때는 웬만하면 하지 말자.)"
      ],
      "metadata": {
        "id": "SJDyB8Z7I8hw"
      }
    },
    {
      "cell_type": "code",
      "source": [
        "!cat apicius.txt"
      ],
      "metadata": {
        "id": "GXWiDfHEI_6o"
      },
      "execution_count": null,
      "outputs": []
    },
    {
      "cell_type": "markdown",
      "source": [
        "## `|` (pipe)\n",
        "\n",
        "파일의 51-100행을 보고자 할 때\n",
        "\n",
        "1. 파일의 첫 100행을 가져온다. (`head -100`)\n",
        "2. 1의 마지막 50행을 가져온다. (`tail -50`)"
      ],
      "metadata": {
        "id": "z--hA2HwJRm3"
      }
    },
    {
      "cell_type": "code",
      "source": [
        "!head -100 apicius.txt | tail -50"
      ],
      "metadata": {
        "colab": {
          "base_uri": "https://localhost:8080/"
        },
        "id": "KpwDWRs_JezP",
        "outputId": "78c14414-7393-4f8d-f842-af68ce5c06d5"
      },
      "execution_count": 7,
      "outputs": [
        {
          "output_type": "stream",
          "name": "stdout",
          "text": [
            "printed.\r\n",
            "\r\n",
            "\r\n",
            "\r\n",
            "\r\n",
            "                        APICIUS\r\n",
            "\r\n",
            "          COOKERY AND DINING IN IMPERIAL ROME\r\n",
            "\r\n",
            " A Bibliography, Critical Review and Translation of the\r\n",
            "    Ancient Book known as _Apicius de re Coquinaria_\r\n",
            "\r\n",
            "      NOW FOR THE FIRST TIME RENDERED INTO ENGLISH\r\n",
            "\r\n",
            "                          BY\r\n",
            "                JOSEPH DOMMERS VEHLING\r\n",
            "\r\n",
            "  _With a Dictionary of Technical Terms, Many Notes,\r\n",
            "  Facsimiles of Originals, and Views and Sketches of\r\n",
            "     Ancient Culinary Objects Made by the Author_\r\n",
            "\r\n",
            "        INTRODUCTION BY PROF. FREDERICK STARR\r\n",
            "       _Formerly of the University of Chicago_\r\n",
            "\r\n",
            "\r\n",
            "\r\n",
            "\r\n",
            "{Transcription:\r\n",
            "\r\n",
            "  APICII LIBRI X\r\n",
            "\r\n",
            "  QVI DICVNTVR DE OBSONIIS\r\n",
            "  ET CONDIMENTIS SIUE ARTE\r\n",
            "  COQVINARIA QVÆ EXTANT\r\n",
            "\r\n",
            "\r\n",
            "  NVNC PRIMVM ANGLICE REDDIVIT PROŒMIO\r\n",
            "  BIBLIOGRAPHICO ATQVE INTERPRETATIONE\r\n",
            "  DEFENSIT UARIISQVE ANNOTATIONIBVS\r\n",
            "  INSTRVXIT ITA ET ANTIQVÆ CVLINÆ\r\n",
            "  VTENSILIARVM EFFIGIIS EXORNAUIT\r\n",
            "  INDICEM DENIQVE ETYMOLOGICVM ET\r\n",
            "  TECHNICVM ARTIS MAGIRICÆ ADIECIT\r\n",
            "\r\n",
            "\r\n",
            "  IOSEPHVS DOMMERS UEHLING\r\n",
            "\r\n",
            "  INTRODVCIT FRIDERICVS STARR\r\n",
            "\r\n",
            "  {Illustration}}\r\n"
          ]
        }
      ]
    },
    {
      "cell_type": "code",
      "source": [
        "!tail -12345 apicius.txt | head -50"
      ],
      "metadata": {
        "colab": {
          "base_uri": "https://localhost:8080/"
        },
        "id": "2OZb0KPlJ3hY",
        "outputId": "1ff148d0-4112-4df0-d0f1-39b640d35d28"
      },
      "execution_count": 8,
      "outputs": [
        {
          "output_type": "stream",
          "name": "stdout",
          "text": [
            "    [4] Whether you like pumpkin and brains or not--Apicius\r\n",
            "    in this dish reveals himself as the consummate master of\r\n",
            "    his art that he really is--a cook for cooks; Moreover,\r\n",
            "    the lucidity of his diction in this instance is equally\r\n",
            "    remarkable. It stands out in striking contrast to his\r\n",
            "    many other formulæ which are so obscured. Many of them\r\n",
            "    perhaps were precepts of likewise striking originality\r\n",
            "    as this one just cited.\r\n",
            "\r\n",
            "\r\n",
            "[177] COMPÔTE OF EARLY FRUIT\r\n",
            "    _GUSTUM DE PRÆCOQUIS_\r\n",
            "\r\n",
            "CLEAN HARD-SKINNED EARLY FRUITS [1] REMOVE THE SEEDS AND KEEP THEM\r\n",
            "COLD IN A PAN. CRUSH PEPPER [2] DRY MINT, MOISTENED WITH BROTH, ADDING\r\n",
            "HONEY, RAISIN WINE, WINE AND VINEGAR; POUR THIS OVER THE FRUIT IN THE\r\n",
            "PAN, ADDING A LITTLE OIL. STEW SLOWLY ON A WEAK FIRE, THICKEN [the\r\n",
            "juice] WITH ROUX [rice flour or other starch diluted with water]\r\n",
            "SPRINKLE WITH PEPPER [2] AND SERVE [3].\r\n",
            "\r\n",
            "    [1] Lister praises the early green fruit and the use\r\n",
            "    thereof, and, as a physician, recommends imitation of\r\n",
            "    the above as follows: _In aliis plurimis locis hujus\r\n",
            "    fructus mentio fit; ususque mirabilis fuit; & certe\r\n",
            "    propter salubritatem, nostram imitationem meretur._\r\n",
            "\r\n",
            "    [2] We do not like the \"pepper\" in this connection and\r\n",
            "    we venture to suggest that in this case the term\r\n",
            "    probably stands for some other kind of aromatic seed\r\n",
            "    less pungent than the grain known to us as \"pepper\" and\r\n",
            "    one more acceptable to the fine flavor of fruit, namely\r\n",
            "    pimiento, allspice for instance, or clove, or nutmeg, or\r\n",
            "    a mixture of these. \"Pepper\" formerly was a generic term\r\n",
            "    for all of these spices but was gradually confined to\r\n",
            "    the grain pepper of black and white varieties.\r\n",
            "\r\n",
            "    [3] We concur with Lister's idea of the use of early\r\n",
            "    fruits. The use of early and unripe fruit for this and\r\n",
            "    similar purposes is excellent. The above formula is a\r\n",
            "    good example of our own \"spiced\" peaches, pears, etc.,\r\n",
            "    usually taken as a relish. Of course, we use sugar\r\n",
            "    instead of honey for sweetening, and brandy instead of\r\n",
            "    wine; but the underlying principles are alike.\r\n",
            "\r\n",
            "    This is a good illustration of and speaks well for the\r\n",
            "    economy and the ingenuity of the ancients.\r\n",
            "\r\n",
            "\r\n",
            "END OF BOOK IV\r\n",
            "\r\n"
          ]
        }
      ]
    },
    {
      "cell_type": "markdown",
      "source": [
        "### 해결할 문제\n",
        "\n",
        "+ 텍스트 파일에는 구텐베르크 프로젝트에 대한 설명 등 본문이 아닌 내용이 포함되어 있다.\n",
        "+ 서문, 그림 등을 제외하고 레시피에 해당하는 텍스트만 얻고 싶다.\n",
        "+ 본문에서 살펴본 규칙성은 대략 아래와 같다.\n",
        "\n",
        "```\n",
        "[번호] 영어 이름\n",
        "    _라틴어 이름_\n",
        "\n",
        "조리법 내용(본문은 대문자, 주석은 소문자로 표기됨)\n",
        "\n",
        "    [각주번호] 각주\n",
        "```\n",
        "\n",
        "+ `cat` 명령에 `-n` 옵션을 넣어서 행 번호와 텍스트를 함께 출력해 보면 몇 행부터 몇 행까지가 레시피에 해당하는지 알 수 있다."
      ],
      "metadata": {
        "id": "27RP8UAiKFyQ"
      }
    },
    {
      "cell_type": "code",
      "source": [
        "!cat -n apicius.txt # 2922 # 13673 - 실제로 레시피가 있는 부분"
      ],
      "metadata": {
        "id": "iU2hs9BvJ7HA"
      },
      "execution_count": null,
      "outputs": []
    },
    {
      "cell_type": "markdown",
      "source": [
        "## `>` (redirection)\n",
        "\n",
        "`[출력될 내용] > [파일명]`\n",
        "\n",
        "---\n",
        "\n",
        "아래 코드에서는 `apicius.txt` 파일의 2922행부터 13673행까지를 출력하여 `apicius-text.txt`라는 파일로 쓴다."
      ],
      "metadata": {
        "id": "ZKjLGMDlLubh"
      }
    },
    {
      "cell_type": "code",
      "source": [
        "!head -13673 apicius.txt | tail +2922 > apicius-text.txt"
      ],
      "metadata": {
        "id": "FuY39NxdLDAB"
      },
      "execution_count": 10,
      "outputs": []
    },
    {
      "cell_type": "markdown",
      "source": [
        "## `grep`\n",
        "\n",
        "`grep [옵션] [검색어] [옵션] [파일명]`\n",
        "\n",
        "---\n",
        "\n",
        "아래 코드에서는 `apicius-text.txt` 파일에서 `''CABBAGE''`라는 문자열이 매치되는 행을 출력한다."
      ],
      "metadata": {
        "id": "DMqfqeJGMGLQ"
      }
    },
    {
      "cell_type": "code",
      "source": [
        "!grep \"CABBAGE\" apicius-text.txt"
      ],
      "metadata": {
        "id": "JiNuiTs4LMqw",
        "colab": {
          "base_uri": "https://localhost:8080/"
        },
        "outputId": "9b9d58c1-d7a4-43d1-e27c-19c972110a97"
      },
      "execution_count": 11,
      "outputs": [
        {
          "output_type": "stream",
          "name": "stdout",
          "text": [
            "    CHAP.    IX. YOUNG CABBAGE, SPROUTS, CAULIFLOWER.\r\n",
            "    CHAP.    XV. SOFT CABBAGE.\r\n",
            "[87] YOUNG CABBAGE, SPROUTS [1]\r\n",
            "WRAP THE LEEKS WELL IN CABBAGE LEAVES, HAVING FIRST COOKED THEM AS\r\n",
            "[103] SOFT CABBAGE\r\n",
            "THE CABBAGE IS COOKED WITH POT HERBS IN SODA WATER; PRESS [the water\r\n",
            "CELERY, STEWED TENDER GREEN CABBAGE, AND OTHER BOILED GREEN VEGETABLES\r\n",
            "HERBS, LEEKS, CORIANDER, DILL, FENNEL, BEETS, MALLOWS, CABBAGE\r\n",
            "CABBAGE COOK [separately. Also] CRUSH FENNEL SEED, ORIGANY, SYLPHIUM\r\n",
            "PORRIDGE, STIR IT TOGETHER AND USE SOME FINELY CHOPPED CABBAGE STEMS\r\n",
            "CORIANDER, DILL, FENNEL, BEETS, MALLOWS, CABBAGE STRUNKS, ALL SOFT AND\r\n",
            "GREEN AND VERY FINELY CUT, AND PUT IN A POT. THE CABBAGE COOK\r\n",
            "PORRIDGE, STIR, AND USE SOME FINELY CHOPPED CABBAGE STEMS TO SPRINKLE\r\n",
            "[469] THE SAME, WITH ANOTHER DRESSING, A CABBAGE _CHARTREUSE_\r\n",
            "A QUARTER PART OF LAUREL BERRIES, A MEDIUM-SIZED BOILED CABBAGE,\r\n",
            "[Take cooked] MALLOWS, LEEKS, BEETS, OR COOKED CABBAGE SPROUTS [shoots\r\n"
          ]
        }
      ]
    },
    {
      "cell_type": "markdown",
      "source": [
        "검색어 앞이나 뒤에 `-n` 옵션을 넣으면 매치된 행 번호가 함께 출력된다."
      ],
      "metadata": {
        "id": "xpR_xFd0m971"
      }
    },
    {
      "cell_type": "code",
      "source": [
        "# -n: line number\n",
        "!grep -n \"CABBAGE\" apicius-text.txt"
      ],
      "metadata": {
        "colab": {
          "base_uri": "https://localhost:8080/"
        },
        "id": "NaF0XBkLm-Wu",
        "outputId": "8444952a-c142-443c-f8a2-905ac46d7bad"
      },
      "execution_count": 12,
      "outputs": [
        {
          "output_type": "stream",
          "name": "stdout",
          "text": [
            "1463:    CHAP.    IX. YOUNG CABBAGE, SPROUTS, CAULIFLOWER.\r\n",
            "1469:    CHAP.    XV. SOFT CABBAGE.\r\n",
            "1877:[87] YOUNG CABBAGE, SPROUTS [1]\r\n",
            "1997:WRAP THE LEEKS WELL IN CABBAGE LEAVES, HAVING FIRST COOKED THEM AS\r\n",
            "2156:[103] SOFT CABBAGE\r\n",
            "2159:THE CABBAGE IS COOKED WITH POT HERBS IN SODA WATER; PRESS [the water\r\n",
            "3019:CELERY, STEWED TENDER GREEN CABBAGE, AND OTHER BOILED GREEN VEGETABLES\r\n",
            "3972:HERBS, LEEKS, CORIANDER, DILL, FENNEL, BEETS, MALLOWS, CABBAGE\r\n",
            "3974:CABBAGE COOK [separately. Also] CRUSH FENNEL SEED, ORIGANY, SYLPHIUM\r\n",
            "3976:PORRIDGE, STIR IT TOGETHER AND USE SOME FINELY CHOPPED CABBAGE STEMS\r\n",
            "4802:CORIANDER, DILL, FENNEL, BEETS, MALLOWS, CABBAGE STRUNKS, ALL SOFT AND\r\n",
            "4803:GREEN AND VERY FINELY CUT, AND PUT IN A POT. THE CABBAGE COOK\r\n",
            "4806:PORRIDGE, STIR, AND USE SOME FINELY CHOPPED CABBAGE STEMS TO SPRINKLE\r\n",
            "10098:[469] THE SAME, WITH ANOTHER DRESSING, A CABBAGE _CHARTREUSE_\r\n",
            "10102:A QUARTER PART OF LAUREL BERRIES, A MEDIUM-SIZED BOILED CABBAGE,\r\n",
            "10126:[Take cooked] MALLOWS, LEEKS, BEETS, OR COOKED CABBAGE SPROUTS [shoots\r\n"
          ]
        }
      ]
    },
    {
      "cell_type": "markdown",
      "source": [
        "`-c` 옵션을 넣으면 매치된 행을 출력하지 않고 매치된 횟수만 출력한다."
      ],
      "metadata": {
        "id": "A-sqh_dbnMYo"
      }
    },
    {
      "cell_type": "code",
      "source": [
        "# -c: count\n",
        "!grep \"PEPPER\" -c apicius-text.txt"
      ],
      "metadata": {
        "colab": {
          "base_uri": "https://localhost:8080/"
        },
        "id": "Kj1eP-tYMkDg",
        "outputId": "2526f346-0e98-420f-d712-604ed6010b79"
      },
      "execution_count": 13,
      "outputs": [
        {
          "output_type": "stream",
          "name": "stdout",
          "text": [
            "467\n"
          ]
        }
      ]
    },
    {
      "cell_type": "markdown",
      "source": [
        "후추가 467번, 꿀이 223번 출현한 것을 확인할 수 있다."
      ],
      "metadata": {
        "id": "ojQLoZsenV3P"
      }
    },
    {
      "cell_type": "code",
      "source": [
        "!grep \"HONEY\" -c apicius-text.txt"
      ],
      "metadata": {
        "colab": {
          "base_uri": "https://localhost:8080/"
        },
        "id": "7F5DJjTAMt2H",
        "outputId": "4cc6942b-fd0c-4406-8e6d-4645a2a48f86"
      },
      "execution_count": 14,
      "outputs": [
        {
          "output_type": "stream",
          "name": "stdout",
          "text": [
            "223\n"
          ]
        }
      ]
    },
    {
      "cell_type": "markdown",
      "source": [
        "파이프를 사용하면 첫 번째 문자열의 검색 결과에 한정하여 두 번째 문자열을 검색할 수 있다.\n",
        "\n",
        "아래 코드에서는 `apicius-text.txt` 파일에서 `\"PEPPER\"`, `\"HONEY\"`, `\"OIL\"`이 모두 포함된 행을 출력한다."
      ],
      "metadata": {
        "id": "O5Mvo3j0nliv"
      }
    },
    {
      "cell_type": "code",
      "source": [
        "!grep \"PEPPER\" apicius-text.txt | grep \"HONEY\" | grep \"OIL\""
      ],
      "metadata": {
        "colab": {
          "base_uri": "https://localhost:8080/"
        },
        "id": "b3Qk4dviMu1O",
        "outputId": "6810c879-199d-4b07-ef2c-e2f1c9ee89b4"
      },
      "execution_count": 15,
      "outputs": [
        {
          "output_type": "stream",
          "name": "stdout",
          "text": [
            "PEPPER, LOVAGE, CORIANDER, RUE, BROTH, HONEY AND A LITTLE OIL.\r\n",
            "ANOTHER WAY: THYME, SATURY, PEPPER, LOVAGE, HONEY, BROTH AND OIL.\r\n",
            "PUT IN A BRAISIÈRE [2] AND BOIL PEPPER, SPICES, HONEY, BROTH; AND HEAT\r\n",
            "WITH OIL, BROTH, REDUCED WINE, WINE, PEPPER, AND HONEY. WHEN DONE\r\n",
            "BRAISE THE TRUFFLES WITH PEPPER, MINT, RUE, HONEY, OIL, AND A LITTLE\r\n",
            "PEPPER, HERBS, RUE, ONION, HONEY, BROTH, RAISIN WINE, A LITTLE OIL,\r\n",
            "PEPPER, CUMIN, RUE, HONEY, VINEGAR, BROTH AND OIL.\r\n",
            "CRUSH PEPPER, RUE, A LITTLE HONEY, BROTH, REDUCED WINE, AND OIL TO\r\n",
            "LEAVES, PEPPER, HONEY, BROTH, A LITTLE OIL, BIND WITH EGGS IN THE HOT\r\n",
            "PEPPER, ORIGANY, ROCKET, MINT, RUE, SAGE [1], DATE WINE, HONEY, OIL,\r\n",
            "PEPPER, LOVAGE, RUE, HONEY, NUTS, VINEGAR, WINE, BROTH, A LITTLE OIL;\r\n"
          ]
        }
      ]
    },
    {
      "cell_type": "markdown",
      "source": [
        "# awk\n",
        "\n",
        "`awk [코드] [파일명]`\n",
        "\n",
        "---\n",
        "\n",
        "요리책에서 음식 재료를 검색할 때 텍스트의 행 단위보다는 음식 단위로 찾는 것이 자연스럽다. 위에서 사용한 `apicius-text.txt` 파일을 분할하여 한 파일에 하나의 레시피가 들어가게 만들어 보자.\n",
        "\n",
        "이번에 사용할 `awk` 언어에서는 텍스트를 레코드(행)와 필드(열)로 나누어 준다. 여기에서는 하나의 레시피를 레코드로, 하나의 레시피를 이루는 번호, 영어 이름, 라틴어 이름, 조리법 본문, 각주 등을 각각 필드로 간주할 수 있다. 이를 반영하기 위해 텍스트 내에 레코드와 필드가 각각 어떻게 분할되는지를 컴퓨터에게 알려주어야 한다.\n",
        "\n",
        "위에서 `apicius-text.txt` 텍스트 파일 본문을 탐색해 보면 각 레시피 사이에는 줄바꿈이 세 번 (혹은 그 이상) 일어나고, 레시피 안에서 이름/본문/각주 사이에는 줄바꿈이 두 번 일어나는 규칙을 발견할 수 있다. 이런 규칙을 반영하여 `RS` 값과 `FS` 값을 지정해 준다.\n",
        "\n",
        "+ RS(Record separator): 줄바꿈(`\\r\\n` 또는 `\\n`) 세 개 이상의 연쇄\n",
        "+ FS(Field separator): 줄바꿈 두 개의 연쇄\n",
        "\n",
        "레코드를 읽어서 화면에 출력할 때는 기존 입력 파일과 다른 구분자를 지정할 수 있다. `ORS`라는 변수명에 구분자로 사용할 문자열을 명세하면 된다.\n",
        "\n",
        "+ ORS(Output record seperator)\n",
        "\n",
        "`awk` 언어에서는 코드 블럭을 중괄호 `{ }`로 감싸주면 된다. 코드 블럭 내에서는 세미콜론 `;`으로 명령을 구분해 준다."
      ],
      "metadata": {
        "id": "Qow3CsJVNca4"
      }
    },
    {
      "cell_type": "markdown",
      "source": [
        "`awk` 코드는 `BEGIN{설정}{실행할 내용 1}{실행할 내용 2}{...}`으로 작성한다. (사실 `BEGIN`은 생략해도 된다.)\n",
        "\n",
        "+ **설정**: 아래의 코드에서는 줄바꿈 문자 세 개 이상의 연쇄를 레코드 구분자로 설정하고, 레코드 내에서는 줄바꿈 문자 두 개의 연쇄를 필드 구분자로 설정한다. 화면에 출력할 때는 하이픈 `-` 다섯 개로 레코드를 구별해 주기로 한다. \n",
        "+ **실행할 내용**: `print` 명령으로 각 레코드의 `$1`의 내용을 화면에 출력한다.\n",
        "\n",
        "`$0`은 하나의 레코드 전체, `$1`은 현재 읽고 있는 레코드 내의 첫 번째 필드를 가리킨다. `apicius-text.txt` 파일에서 `$1`은 `[레시피 번호] 영어 이름\\r\\n  _라틴어 이름_`에 해당한다.\n",
        "\n",
        "아래 코드를 실행하면 `-----` 사이에 각 레코드의 첫 번째 필드의 값이 출력된다."
      ],
      "metadata": {
        "id": "QXvXN2z4NcgP"
      }
    },
    {
      "cell_type": "code",
      "source": [
        "!awk 'BEGIN{RS=\"\\r?\\n\\r?\\n(\\r?\\n)+\"; FS=\"\\r?\\n\\r?\\n\"; ORS=\"\\n-----\\n\"} {print $1}' apicius-text.txt | head -50"
      ],
      "metadata": {
        "colab": {
          "base_uri": "https://localhost:8080/"
        },
        "id": "p3Ya9reHM9UT",
        "outputId": "95e74c15-eed1-41d4-e99c-02a4569d584b"
      },
      "execution_count": 16,
      "outputs": [
        {
          "output_type": "stream",
          "name": "stdout",
          "text": [
            "I\n",
            "-----\n",
            "[1] FINE SPICED WINE\r\n",
            "  _CONDITUM PARADOXUM_\n",
            "-----\n",
            "[2] HONEY REFRESHER FOR TRAVELERS\r\n",
            "  _CONDITUM MELIZOMUM _[1]_ VIATORIUM_\n",
            "-----\n",
            "II\n",
            "-----\n",
            "[3] ROMAN VERMOUTH\r\n",
            "  _ABSINTHIUM ROMANUM_ [1]\n",
            "-----\n",
            "III\n",
            "-----\n",
            "[4] ROSE WINE [1]\r\n",
            "  _ROSATUM_\n",
            "-----\n",
            "[5] VIOLET WINE\r\n",
            "  _VIOLATIUM_\n",
            "-----\n",
            "[6] ROSE WINE WITHOUT [1] ROSES\r\n",
            "  _ROSATUM SINE ROSA_\n",
            "-----\n",
            "IV\n",
            "-----\n",
            "[7] LIBURNIAN OIL\r\n",
            "  _OLEUM LIBURNICUM_\n",
            "-----\n",
            "V\n",
            "-----\n",
            "[8] TO CLARIFY MUDDY WINE\r\n",
            "  _VINUM EX ATRO CANDIDUM FACIES_\n",
            "-----\n",
            "VI\n",
            "-----\n",
            "[9] TO IMPROVE A BROTH [1]\r\n",
            "  _DE LIQUAMINE EMENDANDO_ [2]\n",
            "-----\n",
            "VII\n",
            "-----\n",
            "[10] TO KEEP MEATS FRESH WITHOUT SALT FOR ANY LENGTH OF TIME\r\n",
            "   _UT CARNES SINE SALE QUOVIS TEMPORE RECENTES SINT_\n",
            "-----\n",
            "[11] TO KEEP COOKED SIDES OF PORK OR BEEF OR TENDERLOINS\r\n",
            "   _CALLUM PORCINUM VEL BUBULUM ET UNGUELLÆ COCTÆ UT DIU DURENT_\n",
            "-----\n",
            "VIII\n",
            "-----\n",
            "[12] TO MAKE SALT MEAT SWEET\r\n"
          ]
        }
      ]
    },
    {
      "cell_type": "markdown",
      "source": [
        "위의 내용을 보면 잘된 것과 잘못된 것이 섞여 있다.\n",
        "\n",
        "+ 잘된 것: `[번호] 영어 이름\\n  _라틴어 이름_`\n",
        "+ 잘못된 것: 페이지 번호 등\n",
        "\n",
        "잘된 것만 남기기 위해 레시피 형식에 대한 추가 정보를 컴퓨터에게 주고자 한다. 이 데이터에서는 레시피가 `[번호]`로 시작하므로, 첫 번째 필드(`$1`)가 대괄호로 둘러싸인 숫자로 시작한다는 조건을 걸고 싶다. `awk`에서는 실행할 명령 앞에 `if(조건)`을 써 주면 된다.\n",
        "\n",
        "조건의 내용은 첫 번째 필드(`$1`)의 값이 `[번호]`로 시작한다는 것이다. 정규표현식을 사용해서 이 조건을 명시해 줄 수 있다. `$1~/정규표현식/`으로 쓰면 된다.\n",
        "\n",
        "아래 코드에서는 두 번째 블럭에 조건문을 적용하여 해당 조건에 맞는 레코드에 대해서만 첫 번째 필드를 출력하도록 한 것이다. 앞의 50행을 살펴보면 조건문을 적용하기 전과 달리 페이지 번호 등이 제외되고 음식 번호와 음식 이름만 잘 나온 것 같다."
      ],
      "metadata": {
        "id": "cDgmlNA5Pplg"
      }
    },
    {
      "cell_type": "code",
      "source": [
        "!awk 'BEGIN{RS=\"\\r?\\n\\r?\\n(\\r?\\n)+\"; FS=\"\\r?\\n\\r?\\n\"; ORS=\"\\n-----\\n\"} {if($1~/^\\[[0-9]+\\]/) print $1}' apicius-text.txt | head -50"
      ],
      "metadata": {
        "id": "157sAdwbQxZi",
        "colab": {
          "base_uri": "https://localhost:8080/"
        },
        "outputId": "4b997441-2c04-4212-f65b-6bfef7671746"
      },
      "execution_count": 17,
      "outputs": [
        {
          "output_type": "stream",
          "name": "stdout",
          "text": [
            "[1] FINE SPICED WINE\r\n",
            "  _CONDITUM PARADOXUM_\n",
            "-----\n",
            "[2] HONEY REFRESHER FOR TRAVELERS\r\n",
            "  _CONDITUM MELIZOMUM _[1]_ VIATORIUM_\n",
            "-----\n",
            "[3] ROMAN VERMOUTH\r\n",
            "  _ABSINTHIUM ROMANUM_ [1]\n",
            "-----\n",
            "[4] ROSE WINE [1]\r\n",
            "  _ROSATUM_\n",
            "-----\n",
            "[5] VIOLET WINE\r\n",
            "  _VIOLATIUM_\n",
            "-----\n",
            "[6] ROSE WINE WITHOUT [1] ROSES\r\n",
            "  _ROSATUM SINE ROSA_\n",
            "-----\n",
            "[7] LIBURNIAN OIL\r\n",
            "  _OLEUM LIBURNICUM_\n",
            "-----\n",
            "[8] TO CLARIFY MUDDY WINE\r\n",
            "  _VINUM EX ATRO CANDIDUM FACIES_\n",
            "-----\n",
            "[9] TO IMPROVE A BROTH [1]\r\n",
            "  _DE LIQUAMINE EMENDANDO_ [2]\n",
            "-----\n",
            "[10] TO KEEP MEATS FRESH WITHOUT SALT FOR ANY LENGTH OF TIME\r\n",
            "   _UT CARNES SINE SALE QUOVIS TEMPORE RECENTES SINT_\n",
            "-----\n",
            "[11] TO KEEP COOKED SIDES OF PORK OR BEEF OR TENDERLOINS\r\n",
            "   _CALLUM PORCINUM VEL BUBULUM ET UNGUELLÆ COCTÆ UT DIU DURENT_\n",
            "-----\n",
            "[12] TO MAKE SALT MEAT SWEET\r\n",
            "   _UT CARNEM SALSAM DULCEM FACIAS_\n",
            "-----\n",
            "[13] TO KEEP FRIED FISH\r\n",
            "   _UT PISCES FRICTI DIU DURENT_\n",
            "-----\n",
            "[14] TO KEEP OYSTERS\r\n",
            "   _OSTREA UT DIU DURENT_\n",
            "-----\n",
            "[15] MAKING A LITTLE LASER GO A LONG WAY\r\n",
            "   _UT NUCIA _[1]_ LASERIS TOTO TEMPORE UTARIS_\n",
            "-----\n",
            "[16] TO MAKE HONEY CAKES LAST\r\n",
            "   _UT DULCIA DE MELLE DIU DURENT_\n",
            "-----\n",
            "[17] SPOILED HONEY MADE GOOD\r\n",
            "   _UT MEL MALUM BONUM FACIAS_\n"
          ]
        }
      ]
    },
    {
      "cell_type": "markdown",
      "source": [
        "`awk` 코드를 매번 문자열로 작성하지 않고 파일로 대체할 수 있다. 아래 코드에서는 `echo` 다음에 나오는 문자열을 `apicius.awk`라는 파일로 쓴다. 모든 레코드에 대하여 첫 번째 필드가 `[번호]`로 시작하는 조건을 만족할 때 해당 레코드 전체(`$0`)를 출력하라는 의미다."
      ],
      "metadata": {
        "id": "Mg_qR-aht1q6"
      }
    },
    {
      "cell_type": "code",
      "source": [
        "!echo 'BEGIN{RS=\"\\r?\\n\\r?\\n(\\r?\\n)+\"; FS=\"\\r?\\n\\r?\\n\"; ORS=\"\\n\\n\\n\"} {if($1~/^\\[[0-9]+\\]/) print $0}' > apicius.awk"
      ],
      "metadata": {
        "id": "xIAyOS-YItBQ"
      },
      "execution_count": 18,
      "outputs": []
    },
    {
      "cell_type": "markdown",
      "source": [
        "파일이 잘 써졌는지를 `cat` 명령으 확인해 보자."
      ],
      "metadata": {
        "id": "Kmb0coqFuR1a"
      }
    },
    {
      "cell_type": "code",
      "source": [
        "!cat apicius.awk"
      ],
      "metadata": {
        "colab": {
          "base_uri": "https://localhost:8080/"
        },
        "id": "1ci7tpBkR46n",
        "outputId": "fd82ffb6-ca22-42a0-a1a4-973819e51a56"
      },
      "execution_count": 19,
      "outputs": [
        {
          "output_type": "stream",
          "name": "stdout",
          "text": [
            "BEGIN{RS=\"\\r?\\n\\r?\\n(\\r?\\n)+\"; FS=\"\\r?\\n\\r?\\n\"; ORS=\"\\n\\n\\n\"} {if($1~/^\\[[0-9]+\\]/) print $0}\n"
          ]
        }
      ]
    },
    {
      "cell_type": "markdown",
      "source": [
        "`awk` 명령에 `-f` 옵션을 달아주면 문자열 대신 파일이 코드로 사용된다.\n",
        "\n",
        "아래의 코드에서는 \n",
        "1. `apicius.awk`로 작성된 `awk` 코드를\n",
        "2. `apicius-txt.txt` 텍스트 파일에 적용하여\n",
        "3. 화면에 출력될 결과를 `apicius-recipes.txt` 파일로 쓴다."
      ],
      "metadata": {
        "id": "x9EbMN-4V41V"
      }
    },
    {
      "cell_type": "code",
      "source": [
        "!awk -f apicius.awk apicius-text.txt > apicius-recipes.txt"
      ],
      "metadata": {
        "id": "eqGl2GApR6VL"
      },
      "execution_count": 20,
      "outputs": []
    },
    {
      "cell_type": "markdown",
      "source": [
        "원래의 `apicius-text.txt` 파일에는 페이지 번호 `I` 등이 들어가 있지만…"
      ],
      "metadata": {
        "id": "FN2fkooGus7i"
      }
    },
    {
      "cell_type": "code",
      "source": [
        "!head apicius-text.txt"
      ],
      "metadata": {
        "colab": {
          "base_uri": "https://localhost:8080/"
        },
        "id": "dwSC_0Oxp3Bo",
        "outputId": "7fe59a0c-3fa5-43ee-b12c-1e3e5ca75d4a"
      },
      "execution_count": 21,
      "outputs": [
        {
          "output_type": "stream",
          "name": "stdout",
          "text": [
            "I\r\n",
            "\r\n",
            "\r\n",
            "[1] FINE SPICED WINE\r\n",
            "  _CONDITUM PARADOXUM_\r\n",
            "\r\n",
            "THE COMPOSITION OF [this] EXCELLENT SPICED WINE [is as follows]. INTO\r\n",
            "A COPPER BOWL PUT 6 SEXTARII [1] OF HONEY AND 2 SEXTARII OF WINE; HEAT\r\n",
            "ON A SLOW FIRE, CONSTANTLY STIRRING THE MIXTURE WITH A WHIP. AT THE\r\n",
            "BOILING POINT ADD A DASH OF COLD WINE, RETIRE FROM STOVE AND SKIM.\r\n"
          ]
        }
      ]
    },
    {
      "cell_type": "markdown",
      "source": [
        "`awk` 코드를 적용한 `apicius-recipes.txt`에서는 페이지 번호가 사라졌다."
      ],
      "metadata": {
        "id": "m8SKBGt_uz4P"
      }
    },
    {
      "cell_type": "code",
      "source": [
        "!head apicius-recipes.txt"
      ],
      "metadata": {
        "colab": {
          "base_uri": "https://localhost:8080/"
        },
        "id": "ttfs5nUmp_P7",
        "outputId": "b6ec05a0-f110-4e54-cf4a-4a242f95cb99"
      },
      "execution_count": 22,
      "outputs": [
        {
          "output_type": "stream",
          "name": "stdout",
          "text": [
            "[1] FINE SPICED WINE\r\n",
            "  _CONDITUM PARADOXUM_\r\n",
            "\r\n",
            "THE COMPOSITION OF [this] EXCELLENT SPICED WINE [is as follows]. INTO\r\n",
            "A COPPER BOWL PUT 6 SEXTARII [1] OF HONEY AND 2 SEXTARII OF WINE; HEAT\r\n",
            "ON A SLOW FIRE, CONSTANTLY STIRRING THE MIXTURE WITH A WHIP. AT THE\r\n",
            "BOILING POINT ADD A DASH OF COLD WINE, RETIRE FROM STOVE AND SKIM.\r\n",
            "REPEAT THIS TWICE OR THREE TIMES, LET IT REST TILL THE NEXT DAY, AND\r\n",
            "SKIM AGAIN. THEN ADD 4 OZS. OF CRUSHED PEPPER [2], 3 SCRUPLES OF\r\n",
            "MASTICH, A DRACHM EACH OF [nard or laurel] LEAVES AND SAFFRON, 5\r\n"
          ]
        }
      ]
    },
    {
      "cell_type": "markdown",
      "source": [
        "# 레시피 카드 만들기\n",
        "\n",
        "지금까지 `awk` 언어를 사용하여 텍스트 파일의 내용을 여러 개의 레코드로 분할해서 처리할 수 있다는 것을 알아보았다. 이제 레시피 하나가 파일 하나에 들어가게 만들어 보자."
      ],
      "metadata": {
        "id": "ddtcT-wgu_Bm"
      }
    },
    {
      "cell_type": "markdown",
      "source": [
        "\n",
        "`mkdir` 명령으로 `apicius`라는 이름의 폴더를 만든다."
      ],
      "metadata": {
        "id": "p8QffhVpWGIe"
      }
    },
    {
      "cell_type": "code",
      "source": [
        "!mkdir apicius"
      ],
      "metadata": {
        "id": "xJ4g6WlqTlJN"
      },
      "execution_count": 23,
      "outputs": []
    },
    {
      "cell_type": "markdown",
      "source": [
        "`awk` 코드가 복잡해지므로 한 번에 한 블럭씩 작성해 보자.\n",
        "\n",
        "`>>`로 꺽쇠를 두 개 사용하면 왼쪽의 출력 결과가 기존 파일의 다음 행에 추가된다.\n",
        "\n",
        "행별로 하고자 하는 일은 다음과 같다.\n",
        "\n",
        "1. 레코드 구분자와 필드 구분자를 지정해 준다.\n",
        "2. 첫 번째 필드(`$1`)의 값은 `[번호] 영어 이름\\r\\n  _라틴어 이름_`으로 여러 가지 정보를 담고 있다. 이 정보를 분할하기 위해 `split()` 함수를 사용한다. 이 함수는 `split(분할 대상, 분할 결과의 이름, 구분자)`로 작성한다. 해당 블럭을 실행하면 `name`의 첫 번째 요소가 `[번호] 영어 이름`, 두 번째 요소가 `_라틴어 이름_`이 된다.\n",
        "3. 두 번째 필드(`$2`)의 값은 `레시피 본문(영어 번역)`인데, 종이책의 형식을 그대로 입력했기 때문에 일정한 길이에 따라 줄바꿈이 되어 있다. 이 줄바꿈은 내용을 이해하는 데 불필요하므로 공백 문자로 바꾸어 주자. `gsub(대치 전, 대치 후, 대치 대상)`으로 작성하면 된다.\n",
        "4. 두 번째 필드의 값, 즉 레시피 본문을 `apicius/[번호] 영어 이름 - _라틴어 이름_.txt`라는 이름의 파일로 쓴다. 레코드 하나마다 파일 하나를 생성하고자 하므로 꺽쇠 `>`를 사용한 재지향을 `awk` 코드 블럭 안에서 사용한다.\n"
      ],
      "metadata": {
        "id": "p8Zv8nzyvp1y"
      }
    },
    {
      "cell_type": "code",
      "source": [
        "# 시작\n",
        "# 레코드/필드 구분자 지정\n",
        "!echo 'BEGIN{RS=\"\\r?\\n\\r?\\n(\\r?\\n)+\"; FS=\"\\r?\\n(\\r?\\n)+\"}' > apicius-split.awk\n",
        "\n",
        "# 음식 이름 추출\n",
        "# 첫 번째 필드(음식 이름)를 줄바꿈 문자와 공백 문자의 연쇄로 분할하여 name이라는 이름으로 저장\n",
        "!echo '{split($1, name, \"(\\r?\\n)+ *\")}' >> apicius-split.awk\n",
        "\n",
        "# 텍스트 전처리\n",
        "# 두 번째 필드(조리법 영문 번역)의 줄바꿈 문자를 공백 문자로 대치\n",
        "!echo '{gsub(\"(\\r?\\n)+\", \" \", $2)}' >> apicius-split.awk\n",
        "\n",
        "# 파일 쓰기\n",
        "# 파일명은 name[1](영어 이름)과 name[2](라틴어 이름)을 \" - \"로 연결\n",
        "!echo '{if(name[1]!=\"\") print $2 > \"apicius/\" name[1] \" - \" name[2] \".txt\"}' >> apicius-split.awk"
      ],
      "metadata": {
        "id": "XJBCCY6OrB89"
      },
      "execution_count": 24,
      "outputs": []
    },
    {
      "cell_type": "markdown",
      "source": [
        "지금 쓴 `awk` 코드가 맞게 작성되었는지 `cat` 명령으로 확인해 보자."
      ],
      "metadata": {
        "id": "CduLemaxywgy"
      }
    },
    {
      "cell_type": "code",
      "source": [
        "!cat apicius-split.awk"
      ],
      "metadata": {
        "colab": {
          "base_uri": "https://localhost:8080/"
        },
        "id": "BrAjfURUGsS4",
        "outputId": "873baf7b-01b1-4ee5-d8d4-4a22a8c4ca63"
      },
      "execution_count": 25,
      "outputs": [
        {
          "output_type": "stream",
          "name": "stdout",
          "text": [
            "BEGIN{RS=\"\\r?\\n\\r?\\n(\\r?\\n)+\"; FS=\"\\r?\\n(\\r?\\n)+\"}\n",
            "{split($1, name, \"(\\r?\\n)+ *\")}\n",
            "{gsub(\"(\\r?\\n)+\", \" \", $2)}\n",
            "{if(name[1]!=\"\") print $2 > \"apicius/\" name[1] \" - \" name[2] \".txt\"}\n"
          ]
        }
      ]
    },
    {
      "cell_type": "markdown",
      "source": [
        "확인한 후에는 해당 코드를 레시피만 모여 있는 `apicius-recipes.txt` 파일에 대해 실행한다."
      ],
      "metadata": {
        "id": "RYyUBtAAyvoo"
      }
    },
    {
      "cell_type": "code",
      "source": [
        "!awk -f apicius-split.awk apicius-recipes.txt"
      ],
      "metadata": {
        "id": "GfQOrqdQXUVn"
      },
      "execution_count": 26,
      "outputs": []
    },
    {
      "cell_type": "markdown",
      "source": [
        "`awk` 코드가 잘 실행되었다면 `apicius` 폴더 내에 `ls` 명령을 사용하면 폴더 내의 파일 목록을 볼 수 있다. 간단하게 마지막 10개 파일만 살펴보자."
      ],
      "metadata": {
        "id": "HxtDX4GHy-SI"
      }
    },
    {
      "cell_type": "code",
      "source": [
        "!ls apicius | tail"
      ],
      "metadata": {
        "colab": {
          "base_uri": "https://localhost:8080/"
        },
        "id": "2FO6rGZe5CRT",
        "outputId": "6a6ae4d4-1059-4ba7-e4ce-f11b917dabb3"
      },
      "execution_count": 27,
      "outputs": [
        {
          "output_type": "stream",
          "name": "stdout",
          "text": [
            "[91] ANOTHER WAY - _ALITER_.txt\n",
            "[92] ANOTHER WAY - _ALITER_.txt\n",
            "[93] LEEKS - _PORROS_.txt\n",
            "[94] ANOTHER WAY TO COOK LEEKS - _ALITER PORROS_.txt\n",
            "[95] ANOTHER WAY - _ALITER PORROS_.txt\n",
            "[96] LEEKS AND BEANS - _ALITER PORROS_.txt\n",
            "[97] BEETS - _BETAS_.txt\n",
            "[98] ANOTHER WAY - _ALITER BETAS ELIXAS_.txt\n",
            "[99] GREEN VEGETABLES, POT HERBS - _OLISERA_ [1].txt\n",
            "[9] TO IMPROVE A BROTH [1] - _DE LIQUAMINE EMENDANDO_ [2].txt\n"
          ]
        }
      ]
    },
    {
      "cell_type": "markdown",
      "source": [
        "텍스트 파일 하나를 골라서 내용을 살펴보면 레시피 하나의 본문이 줄바꿈 없이 잘 저장된 것을 확인할 수 있다."
      ],
      "metadata": {
        "id": "aJxt_NzPzR4E"
      }
    },
    {
      "cell_type": "code",
      "source": [
        "!cat \"apicius/[100] TURNIPS OR NAVEWS - _RAPAS SIVE NAPOS_.txt\""
      ],
      "metadata": {
        "colab": {
          "base_uri": "https://localhost:8080/"
        },
        "id": "N-NUjgCo9N5L",
        "outputId": "404b21af-e763-4ca9-ea8c-6d8613e64ecf"
      },
      "execution_count": 28,
      "outputs": [
        {
          "output_type": "stream",
          "name": "stdout",
          "text": [
            "[Turnips are] COOKED [soft, the water is] SQUEEZED [out; then] CRUSH A GOOD AMOUNT OF CUMIN AND A LITTLE RUE, ADD PARTHICAN [1] LASER OR [2] VINEGAR, STOCK, CONDENSED WINE AND OIL [3] HEAT MODERATELY AND SERVE.\n"
          ]
        }
      ]
    },
    {
      "cell_type": "markdown",
      "source": [
        "# 단어 빈도 세기"
      ],
      "metadata": {
        "id": "FSonpkolz0xa"
      }
    },
    {
      "cell_type": "markdown",
      "source": [
        "`grep` 명령은 하나의 파일이 아닌 폴더에 대해서도 적용할 수 있다. 아래의 코드를 실행하면 `apicius` 폴더 내의 모든 파일 중에서 `\"CABBAGE\"`을 포함하는 것들이 출력된다. 앞서와 달리 어떤 음식에 양배추가 사용되었는지를 정확하게 알 수 있다."
      ],
      "metadata": {
        "id": "GqMAu09hYeW-"
      }
    },
    {
      "cell_type": "code",
      "source": [
        "!grep \"CABBAGE\" apicius/*"
      ],
      "metadata": {
        "colab": {
          "base_uri": "https://localhost:8080/"
        },
        "id": "FmdbJGYhYo2s",
        "outputId": "95d591bc-bc54-43a1-b9e4-04c4a0c89753"
      },
      "execution_count": 29,
      "outputs": [
        {
          "output_type": "stream",
          "name": "stdout",
          "text": [
            "apicius/[103] SOFT CABBAGE - _OLUS MOLLE_.txt:THE CABBAGE IS COOKED WITH POT HERBS IN SODA WATER; PRESS [the water out] CHOP IT VERY FINE: [now] CRUSH PEPPER, LOVAGE, DRY SATURY WITH DRY ONIONS, ADD STOCK, OIL AND WINE.\n",
            "apicius/[140] A RICH ENTRÉE OF FISH, POULTRY AND SAUSAGE IN CREAM - _PATINA EX LACTE_.txt:SOAK [pignolia] NUTS, DRY THEM, AND ALSO HAVE FRESH SEA-URCHINS [1] READY. TAKE A DEEP DISH [casserole] IN WHICH ARRANGE THE FOLLOWING THINGS [in layers]: MEDIUM-SIZED MALLOWS AND BEETS, MATURE LEEKS, CELERY, STEWED TENDER GREEN CABBAGE, AND OTHER BOILED GREEN VEGETABLES [2], A DISJOINTED [3] CHICKEN STEWED IN ITS OWN GRAVY, COOKED [calf's or pig's] BRAINS, LUCANIAN SAUSAGE, HARD BOILED EGGS CUT INTO HALVES, BIG TARENTINIAN SAUSAGE [4] SLICED AND BROILED IN THE ASHES, CHICKEN GIBLETS OR PIECES OF CHICKEN MEAT. BITS OF FRIED FISH, SEA NETTLES, PIECES OF [stewed] OYSTERS AND FRESH CHEESE ARE ALTERNATELY PUT TOGETHER; SPRINKLE IN BETWEEN THE NUTS AND WHOLE PEPPER, AND THE JUICE AS IS COOKED FROM PEPPER, LOVAGE, CELERY SEED AND SILPHIUM. THIS ESSENCE, WHEN DONE, MIX WITH MILK TO WHICH RAW EGGS HAVE BEEN ADDED [pour this over the pieces of food in the dish] SO THAT THE WHOLE IS THOROUGHLY COMBINED, STIFFEN IT [in the hot water bath] AND WHEN DONE [garnish with] FRESH MUSSELS [sea-urchins, poached and chopped fine] SPRINKLE PEPPER OVER AND SERVE.\n",
            "apicius/[173] ANOTHER TISANA - _TISANA TARICHA_ [1].txt:THE CEREAL [2] IS SOAKED; CHICKPEAS, LENTILS AND PEAS ARE CRUSHED AND BOILED WITH IT; WHEN WELL COOKED, ADD PLENTY OF OIL. NOW CUT GREEN HERBS, LEEKS, CORIANDER, DILL, FENNEL, BEETS, MALLOWS, CABBAGE STRUNKS, ALL SOFT AND GREEN AND FINELY CUT, AND PUT IN A POT. THE CABBAGE COOK [separately. Also] CRUSH FENNEL SEED, ORIGANY, SYLPHIUM AND LOVAGE, AND WHEN CRUSHED, ADD BROTH TO TASTE, POUR THIS OVER THE PORRIDGE, STIR IT TOGETHER AND USE SOME FINELY CHOPPED CABBAGE STEMS TO SPRINKLE ON TOP [2].\n",
            "apicius/[201] ANOTHER GRUEL - _ALITER TISANAM_ [1].txt:SOAK CHICK-PEAS, LENTILS AND PEAS, CRUSH BARLEY AND COOK WITH THE LEGUMES, WHEN WELL COOKED ADD PLENTY OF OIL. NOW CUT GREENS, LEEKS, CORIANDER, DILL, FENNEL, BEETS, MALLOWS, CABBAGE STRUNKS, ALL SOFT AND GREEN AND VERY FINELY CUT, AND PUT IN A POT. THE CABBAGE COOK [separately; also] CRUSH FENNEL SEED, PLENTY OF IT, ORIGANY, SILPHIUM, AND LOVAGE, AND WHEN GROUND, ADD BROTH TO TASTE, POUR THIS OVER THE PORRIDGE, STIR, AND USE SOME FINELY CHOPPED CABBAGE STEMS TO SPRINKLE ON TOP.\n",
            "apicius/[469] THE SAME, WITH ANOTHER DRESSING, A CABBAGE _CHARTREUSE_ - _ALIAS: TRITURA UNDE PERFUNDES CACCABINAM_.txt:CRUSH WHATEVER QUANTITY OF LEAVES IS REQUIRED WITH CHERVIL AND ONE AND A QUARTER PART OF LAUREL BERRIES, A MEDIUM-SIZED BOILED CABBAGE, CORIANDER LEAVES, DISSOLVE WITH ITS OWN JUICE, STEAM IN THE HOT ASHES, BUT FIRST PLACE IN A MOULD [when stiff unmould on a platter] DECORATE, POUR UNDER A WELL-SEASONED SAUCE, AND SO SERVE [1].\n",
            "apicius/[470] A STUFFED CHARTREUSE - _CACCABINAM _[1]_ FUSILEM_.txt:[Take cooked] MALLOWS, LEEKS, BEETS, OR COOKED CABBAGE SPROUTS [shoots or tender strunks] THRUSHES [roast] AND QUENELLES OF CHICKEN, TIDBITS OF PORK OR SQUAB CHICKEN AND OTHER SIMILAR SHREDS OF FINE MEATS THAT MAY BE AVAILABLE; ARRANGE EVERYTHING ALTERNATELY IN LAYERS [in a mould or in a casserole]. CRUSH PEPPER AND LOVAGE WITH 2 PARTS OF OLD WINE, 1 PART BROTH, 1 PART HONEY AND A LITTLE OIL. TASTE IT; AND WHEN WELL MIXED AND IN DUE PROPORTIONS PUT IN A SAUCE PAN AND ALLOW TO HEAT MODERATELY; WHEN BOILING ADD A PINT OF MILK IN WHICH [about eight] EGGS HAVE BEEN DISSOLVED; [next] POUR [this spiced custard] OVER [the layers of vegetables and meats, heat slowly without allowing to boil] AND WHEN CONGEALED SERVE [either in the casserole, or carefully unmould the dish on a service platter] [2].\n",
            "apicius/[94] ANOTHER WAY TO COOK LEEKS - _ALITER PORROS_.txt:WRAP THE LEEKS WELL IN CABBAGE LEAVES, HAVING FIRST COOKED THEM AS DIRECTED ABOVE [1] AND THEN FINISH THEM IN THE ABOVE WAY.\n"
          ]
        }
      ]
    },
    {
      "cell_type": "markdown",
      "source": [
        "아래의 명령은 파일이나 폴더 내의 단어 빈도를 셀 때 전형적으로 사용하는 방법이다. 여기에서는 대문자 로마자의 연쇄(`\"[A-Z]+\"`)를 단어로 간주했다. 단어의 조건은 데이터에 따라 달라질 수 있다.\n",
        "\n",
        "+ `grep -h`: 매치된 파일명을 보여주지 않기\n",
        "+ `grep -o`: 한 행 전체가 아닌 매치되는 문자열만 보여주기\n",
        "+ `sort`: 알파벳순으로 정렬하기 --- `100`이 `11`보다 먼저 나온다(문자 코드표에서 `0`이 `1`보다 앞에 있으므로).\n",
        "+ `sort -n`: 수의 크기순으로 정렬하기  --- `11`이 `100`보다 먼저 나온다(수의 크기가 작으므로).\n",
        "+ `sort -r`: 내림차순으로 정렬하기\n",
        "+ `uniq`: 같은 요소가 연속으로 나올 때 하나로 합쳐서 보여주기 (`-c`: 연속으로 나온 횟수 보여주기)"
      ],
      "metadata": {
        "id": "tP-j2Pd1Zax7"
      }
    },
    {
      "cell_type": "code",
      "source": [
        "!egrep -ho \"[A-Z]+\" apicius/* | sort | uniq -c | sort -nr > apicius-word-freq.txt"
      ],
      "metadata": {
        "id": "ZDoMmsCUZTJT"
      },
      "execution_count": 30,
      "outputs": []
    },
    {
      "cell_type": "markdown",
      "source": [
        "가장 자주 쓰인 단어 30개를 살펴보자. 최상위에는 AND, THE, WITH, A 등 자주 쓰이는 기능어들이 나타나고, 내용어로는 PEPPER, BROTH, WINE, OIL, HONEY, VINEGAR 등이 자주 쓰인다. 고대 로마 사람들의 입맛을 알 수 있다."
      ],
      "metadata": {
        "id": "D0q_wjQR12JK"
      }
    },
    {
      "cell_type": "code",
      "source": [
        "!head -30 apicius-word-freq.txt"
      ],
      "metadata": {
        "colab": {
          "base_uri": "https://localhost:8080/"
        },
        "id": "1t9KreUL1Xxe",
        "outputId": "d28b3eaf-9ef9-43a7-c2da-a5b0a9b7f9f2"
      },
      "execution_count": 31,
      "outputs": [
        {
          "output_type": "stream",
          "name": "stdout",
          "text": [
            "   1192 AND\n",
            "    973 THE\n",
            "    687 WITH\n",
            "    620 A\n",
            "    525 IN\n",
            "    480 OF\n",
            "    455 PEPPER\n",
            "    382 BROTH\n",
            "    338 WINE\n",
            "    328 OIL\n",
            "    291 IT\n",
            "    280 TO\n",
            "    209 HONEY\n",
            "    206 ADD\n",
            "    190 LITTLE\n",
            "    184 VINEGAR\n",
            "    184 IS\n",
            "    179 LOVAGE\n",
            "    171 SERVE\n",
            "    167 THIS\n",
            "    161 WHEN\n",
            "    154 THEM\n",
            "    146 SAUCE\n",
            "    144 CRUSH\n",
            "    138 OR\n",
            "    130 PUT\n",
            "    124 CUMIN\n",
            "    117 COOKED\n",
            "    110 SPRINKLE\n",
            "    101 CORIANDER\n"
          ]
        }
      ]
    },
    {
      "cell_type": "markdown",
      "source": [
        "위의 상위 30개 목록을 보면 쯔란(CUMIN), 고수(CORIANDER) 등 아시아 음식에서 자주 쓰이는 향신료도 포함되어 있다. 로마 사람들도 양고기를 쯔란으로 양념해 먹었는지 알아보자."
      ],
      "metadata": {
        "id": "mdLqaRSr2NnG"
      }
    },
    {
      "cell_type": "code",
      "source": [
        "!grep \"CUMIN\" apicius/* | grep \"LAMB\" # CUMIN and LAMB"
      ],
      "metadata": {
        "colab": {
          "base_uri": "https://localhost:8080/"
        },
        "id": "G5o1AZnac7OW",
        "outputId": "78af364e-6eea-4f3b-a19b-84ce433a6bfa"
      },
      "execution_count": 32,
      "outputs": [
        {
          "output_type": "stream",
          "name": "stdout",
          "text": [
            "apicius/[355] DAINTY DISHES OF KID OR OF LAMB - _COPADIA HÆDINA SIVE AGNINA_.txt:COOK WITH PEPPER AND BROTH, ALSO WITH VARIOUS ORDINARY BEANS [1] BROTH, PEPPER AND LASER, CUMIN, DUMPLINGS [2] AND A LITTLE OIL [3].\n",
            "apicius/[356] ANOTHER LAMB STEW - _ALITER HÆDINAM SIVE AGNINAM EXCALDATAM_.txt:PUT [pieces of] KID OR LAMB IN THE STEW POT WITH CHOPPED ONION AND CORIANDER. CRUSH PEPPER, LOVAGE, CUMIN, AND COOK WITH BROTH OIL AND WINE. PUT IN A DISH AND TIE WITH ROUX [1].\n"
          ]
        }
      ]
    },
    {
      "cell_type": "markdown",
      "source": [
        "쯔란이나 고수가 들어간 음식 목록을 살펴보자. `grep` 대신 `egrep`을 쓰면 정규표현식을 더 쉽게 사용할 수 있다. `-l` 옵션을 쓰면 파일 내용은 나오지 않고 파일 이름만 출력된다."
      ],
      "metadata": {
        "id": "gxcuZHab2p_1"
      }
    },
    {
      "cell_type": "code",
      "source": [
        "!egrep -l \"CUMIN|CORIANDER\" apicius/* # CUMIN or CORIANDER"
      ],
      "metadata": {
        "colab": {
          "base_uri": "https://localhost:8080/"
        },
        "id": "seTbleFjdde0",
        "outputId": "3e0621ca-4ff5-4702-c070-4ceb7c590122"
      },
      "execution_count": 33,
      "outputs": [
        {
          "output_type": "stream",
          "name": "stdout",
          "text": [
            "apicius/[100] TURNIPS OR NAVEWS - _RAPAS SIVE NAPOS_.txt\n",
            "apicius/[107] FIELD HERBS - _HERBÆ RUSTICÆ_.txt\n",
            "apicius/[111] A HARMLESS SALAD - _NE LACTUCÆ LÆDANT_.txt\n",
            "apicius/[113] ANOTHER [Dressing for] CARDOONS - _ALITER CARDUOS_.txt\n",
            "apicius/[114] BOILED CARDOONS - _ALITER CARDUOS ELIXOS_.txt\n",
            "apicius/[116] ANOTHER WAY - _ALITER_.txt\n",
            "apicius/[118] ANOTHER WAY [Purée of Parsnips] [1] - _ALITER_.txt\n",
            "apicius/[124] ANOTHER WAY - _ALITER_.txt\n",
            "apicius/[126] APICIAN JELLY - _SALACATTABIA APICIANA_.txt\n",
            "apicius/[127] OTHER SALACACCABIA - _ALITER_.txt\n",
            "apicius/[128] EVERYDAY DISH - _PATINA QUOTIDIANA_ [1].txt\n",
            "apicius/[133] ANOTHER ASPARAGUS CUSTARD - _ALIA PATINA DE ASPARAGIS_.txt\n",
            "apicius/[137] PUMPKIN PIE - _PATINA DE CUCURBITIS_ [1].txt\n",
            "apicius/[144] TYROTARICA [1] - _PATELLA THIROTARICA_ [2].txt\n",
            "apicius/[145] SALT FISH BALLS IN WINE SAUCE [1] - _PATELLA ARIDA_ [2].txt\n",
            "apicius/[146] VEGETABLE DINNER - _PATELLA EX OLISATRO_ [1].txt\n",
            "apicius/[154] A FISH STEW - _PATINA ZOMORE_ [1].txt\n",
            "apicius/[158] SEA BASS, OR BARRACUDA - _PATINA DE LUPO_ [1].txt\n",
            "apicius/[160] A DISH OF PEACHES [1] - _PATINA DE PERSICIS_.txt\n",
            "apicius/[161] A DISH OF PEARS - _PATINA DE PIRIS_.txt\n",
            "apicius/[164] A MINCE OF SEA FOOD - _MINUTAL MARINUM_.txt\n",
            "apicius/[166] APICIAN MINUTAL - _MINUTAL APICIANUM_.txt\n",
            "apicius/[167] MINUTAL À LA MATIUS [1] - _MINUTAL MATIANUM_.txt\n",
            "apicius/[168] SWEET MINUTAL - _MINUTAL DULCE_ [1].txt\n",
            "apicius/[169] MINUTAL OF FRUIT - _MINUTAL EX PRÆCOQUIS_.txt\n",
            "apicius/[172] BARLEY BROTH, PAP, PORRIDGE, GRUEL - _TISANA SIVE CREMORE_ [1].txt\n",
            "apicius/[173] ANOTHER TISANA - _TISANA TARICHA_ [1].txt\n",
            "apicius/[183] LENTILS AND COW-PARSNIPS - _LENTICULA EX SPONDYLIS SIVE FONDYLIS_ [2].txt\n",
            "apicius/[184] LENTILS [1] AND CHESTNUTS - _LENTICULAM DE CASTANEIS_ [2].txt\n",
            "apicius/[185] PEAS - _DE PISIS_.txt\n",
            "apicius/[186] PEAS [supreme style] - _PISA FARSILIS_ [1].txt\n",
            "apicius/[187] INDIAN PEAS - _PISAM INDICAM_ [1].txt\n",
            "apicius/[190] ANOTHER WAY - _ALITER PISAM SIVE FABAM_.txt\n",
            "apicius/[192] A TEMPTING DISH OF PEAS - _PISAM ADULTERAM _[1]_ VERSATILEM_.txt\n",
            "apicius/[193] PEAS À LA VITELLIUS - _PISAM SIVE FABAM VITELLIANAM_ [1].txt\n",
            "apicius/[194] BEANS IN THE POD - _CONCHICLA_ [1].txt\n",
            "apicius/[195] PEAS IN THE POD APICIAN STYLE - _CONCHICLAM APICIANAM_.txt\n",
            "apicius/[196] SIMPLE DISH OF PEAS IN THE POD - _CONCHICLA DE PISA SIMPLICI_ [1].txt\n",
            "apicius/[198] ANOTHER STYLE - _ALITER CONCHICLAM SIC FACIES_ [1].txt\n",
            "apicius/[200] BARLEY BROTH - _ALICAM VEL SUCCUM TISANÆ SIC FACIES_ [2].txt\n",
            "apicius/[201] ANOTHER GRUEL - _ALITER TISANAM_ [1].txt\n",
            "apicius/[202] GREEN BEANS - _FABACIÆ VIRIDES_.txt\n",
            "apicius/[204] MUSTARD BEANS - _ALITER: FABACIÆ EX SINAPI_.txt\n",
            "apicius/[207] GREEN STRING BEANS AND CHICK-PEAS - _PHASEOLI _[1]_ VIRIDES ET CICER_.txt\n",
            "apicius/[210] BOILED OSTRICH - _IN STRUTHIONE ELIXO_.txt\n",
            "apicius/[212] CRANE OR DUCK - _GRUEM VEL ANATEM_.txt\n",
            "apicius/[213] ANOTHER WAY OF COOKING CRANE, DUCK OR CHICKEN - _ALITER IN GRUE [VEL] IN ANATE VEL IN PULLO_.txt\n",
            "apicius/[214] CRANE OR DUCK WITH TURNIPS - _GRUEM VEL ANATEM EX RAPIS_ [1].txt\n",
            "apicius/[215] ANOTHER [SAUCE FOR] CRANE OR DUCK - _ALITER IN GRUEM VEL ANATEM ELIXAM_.txt\n",
            "apicius/[217] BOILED CRANE OR DUCK IN ANOTHER MANNER - _ALITER IN GRUE VEL ANATE ELIXA_.txt\n",
            "apicius/[224] SAUCE FOR DIFFERENT BIRDS - _IUS IN DIVERSIS AVIBUS_.txt\n",
            "apicius/[226] WHITE SAUCE FOR BOILED FOWL - _IUS CANDIDUM IN AVEM ELIXAM_.txt\n",
            "apicius/[227] GREEN SAUCE FOR FOWL - _IUS VIRIDE IN AVIBUS_.txt\n",
            "apicius/[228] WHITE SAUCE FOR BOILED GOOSE - _IUS CANDIDUM IN ANSERE ELIXO_.txt\n",
            "apicius/[231] FOR FLAMINGO [and Parrot] - _IN PHŒNICOPTERO_.txt\n",
            "apicius/[234] BOILED GOOSE WITH COLD APICIAN SAUCE - _ANSEREM ELIXUM EX IURE APICIANO FRIGIDO_.txt\n",
            "apicius/[239] GUINEA HEN - _PULLUM NUMIDICUM_.txt\n",
            "apicius/[242] BOILED CHICKEN IN ITS OWN BROTH - _PULLUM ELIXUM EX IURE SUO_.txt\n",
            "apicius/[245] CHICKEN À LA VARUS [1] - _PULLUS VARDANUS_.txt\n",
            "apicius/[246] CHICKEN À LA FRONTO [1] - _PULLUM FRONTONIANUM_.txt\n",
            "apicius/[247] CREAMED CHICKEN WITH PASTE [1] - _PULLUS TRACTOGALATUS_ [2].txt\n",
            "apicius/[261] OSTIAN [2] MEAT BALLS - _OFFELLÆ OSTIENSES_.txt\n",
            "apicius/[262] APICIAN ROULADES - _OFFELLAS APICIANAS_.txt\n",
            "apicius/[265] TIDBITS IN ANOTHER STYLE - _ALITER OFFELLAS_.txt\n",
            "apicius/[268] ANOTHER [Condiment for] ROAST - _ALITER ASSATURAS_.txt\n",
            "apicius/[269] ANOTHER ROAST [Sauce] - _ALITER ASSATURAS_.txt\n",
            "apicius/[276] WHITE SAUCE FOR DAINTY FOOD - _IN COPADIIS _[1]_ JUS ALBUM_.txt\n",
            "apicius/[277] ANOTHER WHITE SAUCE FOR APPETIZERS - _ALITER JUS CANDIDUM IN COPADIIS_.txt\n",
            "apicius/[279] WHITE SAUCE FOR TIDBITS - _JUS ALBUM IN COPADIIS_.txt\n",
            "apicius/[282] SAUCE FOR TIDBITS - _JUS IN COPADIIS_.txt\n",
            "apicius/[286] ROAST LOINS MADE THUS - _LUMBULI ASSI ITA FIUNT_.txt\n",
            "apicius/[303] CHEESE AND HONEY - _MEL ET CASEUM_ [1].txt\n",
            "apicius/[304] BULBS [1] - _BULBOS_.txt\n",
            "apicius/[311] ANOTHER WAY OF COOKING MORELS - _ALITER FUNGI FARNEI_.txt\n",
            "apicius/[312] MUSHROOMS - _BOLETOS FUNGOS_.txt\n",
            "apicius/[318] ANOTHER TRUFFLE - _ALITER TUBERA_.txt\n",
            "apicius/[320] ANOTHER WAY FOR TRUFFLES - _ALITER TUBERA_ [1].txt\n",
            "apicius/[321] ANOTHER WAY FOR TRUFFLES - _ALITER TUBERA_ [1].txt\n",
            "apicius/[322] COLOCASIUM [1] TARO, DASHEEN - _COLOCASIUM_.txt\n",
            "apicius/[324] ANOTHER WAY - _ALITER_.txt\n",
            "apicius/[329] WILD BOAR IS PREPARED THUS - _APER ITA CONDITUR_.txt\n",
            "apicius/[331] ANOTHER WAY TO COOK [sauce for] BOAR - _ALITER IN APRO_.txt\n",
            "apicius/[332] MAKE A HOT SAUCE FOR ROAST BOAR THUS - _JURA FERVENTIA IN APRUM ASSUM FACIES SIC_ [1].txt\n",
            "apicius/[334] SAUCE FOR BOILED BOAR - _IUS IN APRUM ELIXUM_.txt\n",
            "apicius/[335] COLD SAUCE FOR BOILED BOAR [1] - _IUS FRIGIDUM IN APRUM ELIXUM_.txt\n",
            "apicius/[336] ANOTHER COLD SAUCE FOR BOILED BOAR - _ALITER IUS FRIGIDUM IN APRUM ELIXUM_.txt\n",
            "apicius/[337] ANOTHER [sauce] FOR BOAR - _ALITER [ius] IN APRO_.txt\n",
            "apicius/[33] WINE SAUCE FOR TRUFFLES - _ŒNOGARUM _[1]_ IN TUBERA_.txt\n",
            "apicius/[342] PREPARATION OF VENISON - _CERVINÆ CONDITURA_.txt\n",
            "apicius/[343] HOT SAUCE FOR VENISON - _IURA FERVENTIA IN CERVO_.txt\n",
            "apicius/[346] SAUCE FOR WILD GOAT - _IUS IN CAPREA_.txt\n",
            "apicius/[348] SAUCE FOR MOUNTAIN SHEEP - _IUS IN OVIFERO FERVENS_.txt\n",
            "apicius/[34] OXYPORUM - _OXYPORUM_.txt\n",
            "apicius/[350] COLD SAUCE FOR WILD SHEEP - _IUS FRIGIDUM IN OVIFERO_ [1].txt\n",
            "apicius/[351] VEAL STEAK - _VITELLINA FRICTA_ [1].txt\n",
            "apicius/[355] DAINTY DISHES OF KID OR OF LAMB - _COPADIA HÆDINA SIVE AGNINA_.txt\n",
            "apicius/[356] ANOTHER LAMB STEW - _ALITER HÆDINAM SIVE AGNINAM EXCALDATAM_.txt\n",
            "apicius/[362] THE RAW KID OR LAMB [1] - _HÆDUS SIVE AGNUS CRUDUS_.txt\n",
            "apicius/[367] ANOTHER SUCKLING PIG - _ALITER PORCELLUM_.txt\n",
            "apicius/[36] OXYGARUM, AN AID TO DIGESTION - _OXYGARUM DIGESTIBILE_.txt\n",
            "apicius/[370] MILK-FED PIG, COLD, APICIAN SAUCE - _PORCELLUM LACTE PASTUM ELIXUM CALIDUM IURE FRIGIDO CRUDO APICIANO_.txt\n",
            "apicius/[375] SUCKLING PIG STEWED IN WINE - _PORCELLUM ŒNOCOCTUM_ [1].txt\n",
            "apicius/[378] PIG À LA JARDINIÈRE - _PORCELLUM HORTOLANUM_ [1].txt\n",
            "apicius/[385] WHITE SAUCE FOR HARE - _IUS ALBUM IN ASSUM LEPOREM_.txt\n",
            "apicius/[386] LIGHTS OF HARE [1] - _ALITER IN LEPOREM_ [2].txt\n",
            "apicius/[388] HARE IN ITS OWN BROTH [1] - _ALITER LEPOREM EX SUO IURE_.txt\n",
            "apicius/[38] MORTARIA [1] - _MORTARIA_.txt\n",
            "apicius/[397] SAUCE FOR SHELLFISH - _IUS IN LOCUSTA ET CAPPARI_ [1].txt\n",
            "apicius/[398] BROILED LOBSTER - _LOCUSTAS ASSAS_.txt\n",
            "apicius/[399] BOILED LOBSTER WITH CUMIN SAUCE [1] - _LOCUSTAM ELIXAM CUM CUMINATO_.txt\n",
            "apicius/[39] CUMIN SAUCE FOR SHELLFISH - _CUMINATUM IN OSTREA ET CONCHYLIA_.txt\n",
            "apicius/[401] BOILED LOBSTER - _IN LOCUSTA ELIXA_.txt\n",
            "apicius/[402] ANOTHER LOBSTER PREPARATION - _ALITER IN LOCUSTA_.txt\n",
            "apicius/[408] ANOTHER WAY TO COOK CUTTLEFISH - _ALITER SEPIAS_.txt\n",
            "apicius/[40] ANOTHER [CUMIN SAUCE] [1] - _ALITER_.txt\n",
            "apicius/[411] ALL KINDS OF BIVALVES - _IN OMNE GENUS CONCHYLIORUM_ [1].txt\n",
            "apicius/[418] MUSSELS - _IN MITULIS_.txt\n",
            "apicius/[41] MINCED DISHES - _ISICIA_.txt\n",
            "apicius/[424] SAUCE FOR SALT SEA-MULLET - _IUS IN MUGILE SALSO_.txt\n",
            "apicius/[426] SAUCE FOR CATFISH, BABY TUNNY AND TUNNY - _IUS IN SILURO _[2]_ IN PELAMYDE _[3]_ ET IN THYNNO_ [4].txt\n",
            "apicius/[429] ANOTHER WAY, FOR A CHANGE! - _ALITER VICEM GERENS SALSI_ [1].txt\n",
            "apicius/[430] ANOTHER WAY - _ALITER SALSUM IN _[1]_ SALSO_.txt\n",
            "apicius/[431] BAIAN SEAFOOD STEW - _EMBRACTUM _[1]_ BAIANUM_ [2].txt\n",
            "apicius/[432] A SAUCE FINES HERBES FOR FRIED FISH - _IUS DIABOTANON _[2]_ PRO _[3]_ PISCE FRIXO_.txt\n",
            "apicius/[433] SAUCE FOR BOILED FISH - _IUS IN PISCE ELIXO_.txt\n",
            "apicius/[434] ANOTHER SAUCE FOR BOILED FISH - _ALITER IN PISCE ELIXO_ [1].txt\n",
            "apicius/[435] ANOTHER SAUCE FOR BOILED FISH - _ALITER IUS IN PISCE ELIXO_.txt\n",
            "apicius/[436] ANOTHER SAUCE FOR BOILED FISH - _ALITER IUS IN PISCE ELIXO_.txt\n",
            "apicius/[437] ALEXANDRINE [1] SAUCE FOR BROILED FISH - _IUS ALEXANDRINUM IN PISCE ASSO_.txt\n",
            "apicius/[438] ANOTHER ALEXANDRINE SAUCE FOR BROILED FISH - _ALITER IUS ALEXANDRINUM IN PISCE ASSO_.txt\n",
            "apicius/[439] ANOTHER ALEXANDRINE SAUCE FOR BROILED FISH - _ALITER IUS ALEXANDRINUM IN PISCE ASSO_.txt\n",
            "apicius/[440] SAUCE FOR BROILED CONGER - _IUS IN CONGRO ASSO_.txt\n",
            "apicius/[443] ANOTHER SAUCE FOR BROILED MULLET - _ALITER IUS IN MULLOS ASSOS_.txt\n",
            "apicius/[444] SEASONING FOR BABY TUNNY - _IUS IN PELAMYDE ASSA_.txt\n",
            "apicius/[446] SAUCE FOR PERCH - _IUS IN PERCAM_ [1].txt\n",
            "apicius/[450] ANOTHER SAUCE FOR BROILED MURENA - _ALITER IUS IN MURENA ASSA_.txt\n",
            "apicius/[451] ANOTHER SAUCE FOR BOILED MURENA [1] - _ALITER IUS IN MURENA ELIXA_.txt\n",
            "apicius/[452] ANOTHER SAUCE FOR BOILED MURENA - _ALITER IUS IN MURENA ELIXA_.txt\n",
            "apicius/[455] SAUCE FOR BOILED LACERTUS FISH - _IUS IN LACERTOS ELIXOS_ [1].txt\n",
            "apicius/[456] SAUCE FOR BROILED FISH - _IUS IN PISCE ASSO_.txt\n",
            "apicius/[457] SAUCE FOR TUNNY - _IUS IN THYNNO_.txt\n",
            "apicius/[459] SAUCE FOR BROILED TOOTH FISH - _IUS IN DENTICE ASSO_ [1].txt\n",
            "apicius/[460] BOILED TOOTHFISH - _IN DENTICE ELIXO_ [1].txt\n",
            "apicius/[462] SAUCE FOR BROILED DORY. - _IUS IN PISCE AURATA ASSA_.txt\n",
            "apicius/[469] THE SAME, WITH ANOTHER DRESSING, A CABBAGE _CHARTREUSE_ - _ALIAS: TRITURA UNDE PERFUNDES CACCABINAM_.txt\n",
            "apicius/[475] SEA-SCORPION WITH TURNIPS - _PISCES SCORPIONES RAPULATOS_ [1].txt\n",
            "apicius/[476] [Sauce for] ANY KIND OF FISH, FRIED MAKE THUS: - _PISCES FRIXOS CUIUSCUMQUE GENERIS_.txt\n",
            "apicius/[477] [Sauce for] SAME FRIED FISH MAKE THUS: - _ITEM PISCES FRIXOS_.txt\n",
            "apicius/[481] FISH STEWED IN WINE - _PISCES ŒNOTEGANON_ [1].txt\n",
            "apicius/[482] MULLET STEWED WITH DILL MAKE THUS: - _MULLOS ANETHATOS _[1]_ SIC FACIES_.txt\n",
            "apicius/[483] MULLET ANOTHER STYLE - _ALITER MULLOS_.txt\n",
            "apicius/[487] A DISH OF SOLE WITH EGGS - _PATINA SOLEARUM EX OVIS_.txt\n",
            "apicius/[488] SUCKLING PIG, CORIANDER SAUCE - _PORCELLUM CORIANDRATUM_.txt\n",
            "apicius/[492] PICKLED SUCKLING PIG - _PORCELLUM OXYZOMUM_ [1].txt\n",
            "apicius/[493] PIG WITH LASER - _PORCELLUM LASARATUM_.txt\n",
            "apicius/[494] PIG IN SAUCE - _PORCELLUM IUSCELLATUM_.txt\n",
            "apicius/[495] PLAIN LAMB [1] - _AGNUM SIMPLICEM_.txt\n",
            "apicius/[497] THRUSH \"À LA SANTÉ\" - _TURDOS HAPANTAMYNOS_ [1].txt\n",
            "apicius/[59] A DISH OF SOW'S MATRIX - _VULVULÆ BOTELLI_ [1].txt\n",
            "apicius/[61] LUCANIAN SAUSAGE - _LUCANICÆ_.txt\n",
            "apicius/[65] ROUND SAUSAGE - _CIRELLOS ISICIATOS_.txt\n",
            "apicius/[67] VEGETABLE DINNER, EASILY DIGESTED - _PULMENTARIUM AD VENTREM_ [1].txt\n",
            "apicius/[68] A SIMILAR DISH - _SIMILITER_.txt\n",
            "apicius/[69] ANOTHER LAXATIVE - _ALITER AD VENTREM_ [1].txt\n",
            "apicius/[73] PUMPKIN, SQUASH - _CUCURBITAS_.txt\n",
            "apicius/[74] PUMPKIN LIKE DASHEENS - _ALITER CUCURBITAS IURE COLOCASIORUM_ [1].txt\n",
            "apicius/[75] PUMPKIN, ALEXANDRINE STYLE - _ALITER CUCURBITAS MORE ALEXANDRINO_.txt\n",
            "apicius/[78] ANOTHER WAY, BOILED AND FRIED - _ALITER CUCURBITAS ELIXATAS ET FRICTAS_.txt\n",
            "apicius/[79] ANOTHER WAY, MASHED - _CUCURBITAS FRICTAS TRITAS_.txt\n",
            "apicius/[80] PUMPKIN AND CHICKEN - _CUCURBITAS CUM GALLINA_.txt\n",
            "apicius/[83] CUCUMBERS ANOTHER WAY - _ALITER CUCUMERES RASOS_.txt\n",
            "apicius/[87] YOUNG CABBAGE, SPROUTS [1] - _CYMAS ET CAULICULOS_ [2].txt\n",
            "apicius/[88] ANOTHER WAY - _ALITER_.txt\n",
            "apicius/[89] ANOTHER WAY - _ALITER_.txt\n",
            "apicius/[97] BEETS - _BETAS_.txt\n"
          ]
        }
      ]
    }
  ]
}